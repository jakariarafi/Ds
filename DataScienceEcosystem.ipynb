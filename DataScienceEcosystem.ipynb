{
 "cells": [
  {
   "attachments": {},
   "cell_type": "markdown",
   "id": "98d68c03-eb5c-4dbd-a452-7852e6c96a7a",
   "metadata": {},
   "source": [
    "Data Science Tools and Ecosystem"
   ]
  },
  {
   "cell_type": "markdown",
   "id": "0ea715c2-a1e9-4d5f-be11-734bd9b447c8",
   "metadata": {},
   "source": [
    "In this notebook, Data Science Tools and Ecosystem are summarized."
   ]
  },
  {
   "cell_type": "markdown",
   "id": "42b59ceb-ff2d-45c9-bc84-e83416ac0323",
   "metadata": {},
   "source": [
    "Some of the popular languages that Data Scientists use are:\n",
    "# 1. Python\n",
    "# 2. R\n",
    "# 3. SQL\n",
    "# 4. Julia\n",
    "# 5. Scala"
   ]
  },
  {
   "cell_type": "markdown",
   "id": "727b7e52-1f59-4501-b239-0fbb42f7fab9",
   "metadata": {},
   "source": [
    "Some of the commonly used libraries used by Data Scientists include:\n",
    "# 1. NumPy\n",
    "# 2. Pandas\n",
    "# 3. Matplotlib\n",
    "# 4. Scikit-learn\n",
    "# 5. TensorFlow"
   ]
  },
  {
   "cell_type": "markdown",
   "id": "c92b894f-1995-4e68-83e2-5da37e9a4851",
   "metadata": {},
   "source": [
    " Data Science Tools       \n",
    "# |---------------------------|\n",
    "# | Jupyter Notebook          |\n",
    "# | RStudio                   |\n",
    "# | Apache Zeppelin      "
   ]
  },
  {
   "cell_type": "markdown",
   "id": "99b88ae0-03de-4e68-9834-115cbcee0fab",
   "metadata": {},
   "source": [
    "Below are a few examples of evaluating arithmetic expressions in Python"
   ]
  },
  {
   "cell_type": "code",
   "execution_count": 1,
   "id": "7debbfb2-e55b-4784-888b-4879417edfd4",
   "metadata": {},
   "outputs": [
    {
     "data": {
      "text/plain": [
       "17"
      ]
     },
     "execution_count": 1,
     "metadata": {},
     "output_type": "execute_result"
    }
   ],
   "source": [
    "#This a simple arithmetic expression to multiply then add integers\n",
    "(3 * 4) + 5"
   ]
  },
  {
   "cell_type": "code",
   "execution_count": 2,
   "id": "7c001b30-e02f-4a75-beb4-66fd3d35cee7",
   "metadata": {},
   "outputs": [
    {
     "data": {
      "text/plain": [
       "3.3333333333333335"
      ]
     },
     "execution_count": 2,
     "metadata": {},
     "output_type": "execute_result"
    }
   ],
   "source": [
    "#This will convert 200 minutes to hours by dividing by 60\n",
    "200 / 60"
   ]
  },
  {
   "cell_type": "markdown",
   "id": "3816d5a4-5069-4638-9966-cea70e6c8351",
   "metadata": {},
   "source": [
    "Objectives:\n",
    " - List popular languages for Data Science\n",
    " - Describe commonly used libraries in Data Science\n",
    " - Highlight key open-source tools for Data Science\n",
    " - Provide examples of arithmetic operations in Python\n",
    " - Demonstrate converting minutes to hours"
   ]
  },
  {
   "cell_type": "markdown",
   "id": "c04550f9-9b29-4e52-a80d-cd43665aa38b",
   "metadata": {},
   "source": [
    "Author\n",
    "Al Jakaria Ra"
   ]
  }
 ],
 "metadata": {
  "kernelspec": {
   "display_name": "Python 3 (ipykernel)",
   "language": "python",
   "name": "python3"
  },
  "language_info": {
   "codemirror_mode": {
    "name": "ipython",
    "version": 3
   },
   "file_extension": ".py",
   "mimetype": "text/x-python",
   "name": "python",
   "nbconvert_exporter": "python",
   "pygments_lexer": "ipython3",
   "version": "3.11.9"
  }
 },
 "nbformat": 4,
 "nbformat_minor": 5
}
